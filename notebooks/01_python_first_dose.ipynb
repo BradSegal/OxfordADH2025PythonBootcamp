{
 "cells": [
  {
   "cell_type": "markdown",
   "id": "fba7e024",
   "metadata": {},
   "source": [
    "# Python for Medicine: The First Dose\n",
    "\n",
    "Welcome to Project MedVision's crash course in Python. Every concept you practise today keeps our fictional patient safe on the ward."
   ]
  },
  {
   "cell_type": "markdown",
   "id": "a3f93c36",
   "metadata": {},
   "source": [
    "## Morning Rounds Briefing\n",
    "\n",
    "**Patient:** Jordan Nguyen (54, they/them) admitted with community-acquired pneumonia complicated by sepsis.\\n**Today's Role:** Junior doctor on the MedVision team preparing the morning handover.\n",
    "\n",
    "**Learning objectives**\n",
    "- Track key clinical facts with variables and formatted strings.\n",
    "- Organise observations using lists and dictionaries that mirror the chart.\n",
    "- Automate triage decisions with loops, conditionals, and helper utilities.\n",
    "- Assemble a concise handover draft that flows into the AI lab in Notebook 02.\n",
    "\n",
    "Plan for ~60 minutes of focused practice."
   ]
  },
  {
   "cell_type": "markdown",
   "id": "72ee5864",
   "metadata": {},
   "source": [
    "### How to Use This Notebook\n",
    "- Run each cell from top to bottom. Restart (`Runtime → Restart and run all`) if you get lost.\n",
    "- Challenge cells raise `NotImplementedError` until you complete them—this is intentional so mistakes surface immediately.\n",
    "- Solutions live in collapsed cells. Only open them after giving the exercise an honest try.\n",
    "- Need a fresh start? Rerun the setup cell to rebuild the environment."
   ]
  },
  {
   "cell_type": "markdown",
   "id": "7511b36f",
   "metadata": {},
   "source": [
    "## 0. Setup: Prep Your Colab Cart\n",
    "\n",
    "This cell downloads the MedVision toolkit and installs every dependency.\n",
    "Run it once per fresh Colab session. If anything fails, the cell stops immediately so you can fix the issue."
   ]
  },
  {
   "cell_type": "code",
   "id": "dfb4ff07",
   "metadata": {},
   "source": "from __future__ import annotations\n\nimport subprocess\nimport sys\nfrom pathlib import Path\nfrom typing import Final\n\nREPO_URL: Final[str] = \"https://github.com/your-repo/python-for-medicine-bootcamp.git\"\n\nworkspace = Path.cwd()\n\n# Try to find the project root\n# Case 1: Running from project root (workspace contains src/medvision_toolkit)\n# Case 2: Running from notebooks/ subdirectory (parent contains src/medvision_toolkit)\n# Case 3: Running in Colab (need to clone repository)\n\nif (workspace / \"src\" / \"medvision_toolkit\").exists():\n    repo_root = workspace\n    print(\"✓ Detected Project MedVision source in the current workspace.\")\nelif (workspace.parent / \"src\" / \"medvision_toolkit\").exists():\n    repo_root = workspace.parent\n    print(\"✓ Detected Project MedVision source in parent directory.\")\n    print(f\"  Project root: {repo_root}\")\nelse:\n    # Colab or git clone scenario\n    repo_root = workspace / \"python-for-medicine-bootcamp\"\n    if repo_root.exists():\n        print(\"Existing checkout found. Pulling latest changes...\")\n        result = subprocess.run(\n            [\"git\", \"-C\", str(repo_root), \"pull\", \"--ff-only\"],\n            capture_output=True,\n            text=True,\n        )\n        if result.returncode != 0:\n            print(result.stdout)\n            print(result.stderr, file=sys.stderr)\n            raise RuntimeError(\"git pull failed; please resolve and rerun the cell.\")\n    else:\n        print(f\"Cloning repository from {REPO_URL} …\")\n        result = subprocess.run(\n            [\"git\", \"clone\", \"--depth\", \"1\", REPO_URL, str(repo_root)],\n            capture_output=True,\n            text=True,\n        )\n        if result.returncode != 0:\n            print(result.stdout)\n            print(result.stderr, file=sys.stderr)\n            raise RuntimeError(\"git clone failed; check the URL or your connection.\")\n\n# Install dependencies (only in Colab or if explicitly needed)\nrequirements_path = repo_root / \"requirements.txt\"\nif not requirements_path.exists():\n    raise FileNotFoundError(f\"Could not locate requirements.txt at {requirements_path}\")\n\n# Check if we're in Colab (has google.colab module)\ntry:\n    import google.colab\n    in_colab = True\nexcept ImportError:\n    in_colab = False\n\nif in_colab:\n    print(\"Installing Python dependencies (this may take a minute)…\")\n    subprocess.check_call([sys.executable, \"-m\", \"pip\", \"install\", \"-q\", \"-r\", str(requirements_path)])\nelse:\n    print(\"Running locally. Assuming dependencies are already installed.\")\n    print(\"If you encounter import errors, run: pip install -r requirements.txt\")\n\n# Add src directory to path\nproject_src = repo_root / \"src\"\nif str(project_src) not in sys.path:\n    sys.path.insert(0, str(project_src))\n    print(f\"✓ Added {project_src} to Python path\")\n\nprint(\"✅ Environment ready. Proceed to the next cell.\")",
   "outputs": [],
   "execution_count": null
  },
  {
   "cell_type": "markdown",
   "id": "f392098f",
   "metadata": {},
   "source": [
    "### Quick Systems Check\n",
    "If everything installed correctly, the toolkit will summarise our patient without errors."
   ]
  },
  {
   "cell_type": "code",
   "id": "86591349",
   "metadata": {},
   "source": [
    "from medvision_toolkit.learning.patient_profiles import load_sample_patient, summarize_patient\n",
    "\n",
    "patient_profile = load_sample_patient()\n",
    "print(summarize_patient(patient_profile))\n"
   ],
   "outputs": [],
   "execution_count": null
  },
  {
   "cell_type": "markdown",
   "id": "81731c73",
   "metadata": {},
   "source": [
    "## 1. Patient Intake: Variables & Strings\n",
    "\n",
    "Variables are our labels for important clinical facts—think room assignments, attending physicians, or today’s rounding date."
   ]
  },
  {
   "cell_type": "code",
   "id": "4ed164d1",
   "metadata": {},
   "source": [
    "from datetime import date\n",
    "\n",
    "round_date = date.today()\n",
    "attending_on_service = patient_profile['demographics']['attending']\n",
    "room_assignment = '5B-12'\n",
    "clinical_focus = 'Respiratory status and mobility'\n",
    "\n",
    "print(f\"Rounds Date: {round_date:%B %d, %Y}\")\n",
    "print(f\"Attending on service: {attending_on_service}\")\n",
    "print(f\"Room assignment: {room_assignment}\")\n",
    "print(f\"Today's clinical focus: {clinical_focus}\")\n"
   ],
   "outputs": [],
   "execution_count": null
  },
  {
   "cell_type": "markdown",
   "id": "048f562c",
   "metadata": {},
   "source": [
    "✨ **Clinical side note**: Clear variable names mirror clear charting. When your future self reads this code, they should immediately know which clinical detail they are looking at."
   ]
  },
  {
   "cell_type": "markdown",
   "id": "fd1e8868",
   "metadata": {},
   "source": [
    "### Your Turn: Challenge 1 — Body Composition Check\n",
    "1. Store Jordan's height (metres) and weight (kg) in variables.\n",
    "2. Use `calculate_bmi` from `medvision_toolkit` to compute the BMI.\n",
    "3. Print a message such as `BMI 25.7 — monitor nutritional status`.\n",
    "4. Decide on the guidance message using an `if/else` block."
   ]
  },
  {
   "cell_type": "code",
   "id": "3fdfe7c1",
   "metadata": {},
   "source": [
    "# TODO: Replace the placeholder below with your solution.\n",
    "raise NotImplementedError('Challenge 1: calculate BMI and print a guidance message.')\n"
   ],
   "outputs": [],
   "execution_count": null
  },
  {
   "cell_type": "code",
   "id": "c9309678",
   "metadata": {
    "jupyter": {
     "source_hidden": true
    },
    "tags": [
     "solution"
    ]
   },
   "source": [
    "from medvision_toolkit.learning.patient_profiles import calculate_bmi\n",
    "\n",
    "height_m = 1.65\n",
    "weight_kg = 72.0\n",
    "patient_bmi = calculate_bmi(weight_kg=weight_kg, height_m=height_m)\n",
    "\n",
    "if patient_bmi >= 25:\n",
    "    guidance = 'BMI elevated — continue dietician consult.'\n",
    "else:\n",
    "    guidance = 'BMI within goal range — maintain current plan.'\n",
    "\n",
    "print(f\"BMI {patient_bmi} — {guidance}\")\n"
   ],
   "outputs": [],
   "execution_count": null
  },
  {
   "cell_type": "markdown",
   "id": "91b9c4d5",
   "metadata": {},
   "source": [
    "Great! Variables now capture the snapshot facts we need for rounds."
   ]
  },
  {
   "cell_type": "markdown",
   "id": "504b6e7a",
   "metadata": {},
   "source": [
    "## 2. Trend Tracking with Lists\n",
    "\n",
    "Lists help us follow a value over time—perfect for vitals, labs, or pain scores."
   ]
  },
  {
   "cell_type": "code",
   "id": "21801db9",
   "metadata": {},
   "source": [
    "patient_profile = load_sample_patient()  # fresh copy to avoid accidental edits\n",
    "\n",
    "bp_trend = patient_profile['vitals']['systolic_bp']\n",
    "pain_trend = patient_profile['vitals']['pain_scores']\n",
    "\n",
    "print(f\"Systolic BP readings: {bp_trend}\")\n",
    "print(f\"Max BP this week: {max(bp_trend)} mmHg\")\n",
    "print(f\"Min BP this week: {min(bp_trend)} mmHg\")\n",
    "\n",
    "print(f\"Pain scores: {pain_trend}\")\n",
    "print(f\"Number of pain observations: {len(pain_trend)}\")\n",
    "print(f\"Highest pain score: {max(pain_trend)}\")\n"
   ],
   "outputs": [],
   "execution_count": null
  },
  {
   "cell_type": "markdown",
   "id": "f997f1ab",
   "metadata": {},
   "source": [
    "Try describing what these trends mean clinically. Do you expect any interventions today?"
   ]
  },
  {
   "cell_type": "code",
   "id": "073b3e02",
   "metadata": {},
   "source": [
    "from medvision_toolkit.learning.patient_profiles import plot_vital_trends\n",
    "\n",
    "plot_vital_trends(patient_profile['vitals'])\n"
   ],
   "outputs": [],
   "execution_count": null
  },
  {
   "cell_type": "markdown",
   "id": "7c862dbb",
   "metadata": {},
   "source": [
    "### Your Turn: Challenge 2 — Convert and Summarise\n",
    "1. Create a new list called `bp_kpa` converting each systolic BP to kilopascals (`mmHg * 0.133`).\n",
    "2. Print the converted list.\n",
    "3. Calculate the average pain score and print a short interpretation (e.g., `Average pain 4.3 — improving`)."
   ]
  },
  {
   "cell_type": "code",
   "id": "2ec4aebe",
   "metadata": {},
   "source": [
    "# TODO: Replace the placeholder below with your solution.\n",
    "raise NotImplementedError('Challenge 2: work with lists and basic statistics.')\n"
   ],
   "outputs": [],
   "execution_count": null
  },
  {
   "cell_type": "code",
   "id": "091ee765",
   "metadata": {
    "jupyter": {
     "source_hidden": true
    },
    "tags": [
     "solution"
    ]
   },
   "source": [
    "conversion_factor = 0.133\n",
    "bp_kpa = [round(reading * conversion_factor, 1) for reading in bp_trend]\n",
    "print(f\"Systolic BP (kPa): {bp_kpa}\")\n",
    "\n",
    "average_pain = sum(pain_trend) / len(pain_trend)\n",
    "if average_pain >= 6:\n",
    "    interpretation = 'Pain poorly controlled — discuss with attending.'\n",
    "elif average_pain >= 3:\n",
    "    interpretation = 'Pain improving — continue current regimen.'\n",
    "else:\n",
    "    interpretation = 'Pain well controlled.'\n",
    "\n",
    "print(f\"Average pain {average_pain:.1f} — {interpretation}\")\n"
   ],
   "outputs": [],
   "execution_count": null
  },
  {
   "cell_type": "markdown",
   "id": "7a4f7dd3",
   "metadata": {},
   "source": [
    "## 3. Patient Charts as Dictionaries\n",
    "\n",
    "Dictionaries (and the `TypedDict` schema defined in our toolkit) mirror structured chart sections: demographics, vitals, consults, and more."
   ]
  },
  {
   "cell_type": "code",
   "id": "e39a420a",
   "metadata": {},
   "source": [
    "patient_profile = load_sample_patient()\n",
    "\n",
    "print('Top-level keys:', list(patient_profile.keys()))\n",
    "print('Demographics:')\n",
    "for key, value in patient_profile['demographics'].items():\n",
    "    print(f\"  {key}: {value}\")\n"
   ],
   "outputs": [],
   "execution_count": null
  },
  {
   "cell_type": "markdown",
   "id": "cfdf5113",
   "metadata": {},
   "source": [
    "Notice how the structure matches what you would expect in an electronic health record."
   ]
  },
  {
   "cell_type": "markdown",
   "id": "3cf668fc",
   "metadata": {},
   "source": [
    "### Your Turn: Challenge 3 — Consult Coordination\n",
    "1. Add `'Nutrition services'` to the `consults` list if it is not already present.\n",
    "2. Create a new key `consult_note` that summarises why nutrition is involved.\n",
    "3. Print the consult note to confirm."
   ]
  },
  {
   "cell_type": "code",
   "id": "13137f48",
   "metadata": {},
   "source": [
    "# TODO: Replace the placeholder below with your solution.\n",
    "raise NotImplementedError('Challenge 3: update the consult list and add a note.')\n"
   ],
   "outputs": [],
   "execution_count": null
  },
  {
   "cell_type": "code",
   "id": "b1b77b5f",
   "metadata": {
    "jupyter": {
     "source_hidden": true
    },
    "tags": [
     "solution"
    ]
   },
   "source": [
    "if 'Nutrition services' not in patient_profile['consults']:\n",
    "    patient_profile['consults'].append('Nutrition services')\n",
    "\n",
    "patient_profile['consult_note'] = (\n",
    "    'Consult Nutrition to support high-protein meals and monitor intake while appetite returns.'\n",
    ")\n",
    "print(patient_profile['consult_note'])\n"
   ],
   "outputs": [],
   "execution_count": null
  },
  {
   "cell_type": "markdown",
   "id": "1fa1220e",
   "metadata": {},
   "source": [
    "## 4. Loops & Conditionals: Rapid Response Dashboards\n",
    "\n",
    "Loops let us audit every reading, while conditionals decide which ones need escalation."
   ]
  },
  {
   "cell_type": "code",
   "id": "95c2ac54",
   "metadata": {},
   "source": [
    "from medvision_toolkit.learning.patient_profiles import triage_pain_scores\n",
    "\n",
    "patient_profile = load_sample_patient()\n",
    "for message in triage_pain_scores(patient_profile['vitals']['pain_scores']):\n",
    "    print(message)\n"
   ],
   "outputs": [],
   "execution_count": null
  },
  {
   "cell_type": "markdown",
   "id": "3cf81e85",
   "metadata": {},
   "source": [
    "### Your Turn: Challenge 4 — Blood Pressure Watchlist\n",
    "1. Iterate through the systolic BP readings.\n",
    "2. Build a list called `bp_alerts` with one message per reading:\n",
    "   - `Hypertension alert: {bp} mmHg` when `bp >= 140`\n",
    "   - `Consider step-down monitoring: {bp} mmHg` when `bp <= 120`\n",
    "   - Otherwise `Within goal range: {bp} mmHg`\n",
    "3. Print each alert."
   ]
  },
  {
   "cell_type": "code",
   "id": "c874c883",
   "metadata": {},
   "source": [
    "# TODO: Replace the placeholder below with your solution.\n",
    "raise NotImplementedError('Challenge 4: build a BP alert list with a for loop.')\n"
   ],
   "outputs": [],
   "execution_count": null
  },
  {
   "cell_type": "code",
   "id": "07ad2a09",
   "metadata": {
    "jupyter": {
     "source_hidden": true
    },
    "tags": [
     "solution"
    ]
   },
   "source": [
    "bp_alerts = []\n",
    "for reading in patient_profile['vitals']['systolic_bp']:\n",
    "    if reading >= 140:\n",
    "        bp_alerts.append(f\"Hypertension alert: {reading} mmHg\")\n",
    "    elif reading <= 120:\n",
    "        bp_alerts.append(f\"Consider step-down monitoring: {reading} mmHg\")\n",
    "    else:\n",
    "        bp_alerts.append(f\"Within goal range: {reading} mmHg\")\n",
    "\n",
    "for alert in bp_alerts:\n",
    "    print(alert)\n"
   ],
   "outputs": [],
   "execution_count": null
  },
  {
   "cell_type": "markdown",
   "id": "061bbff5",
   "metadata": {},
   "source": [
    "## 5. Functions as Clinical Protocols\n",
    "\n",
    "Functions bundle repeatable logic—just like a standard order set. We wrote them once in the toolkit so you can call them here without wrestling with implementation details."
   ]
  },
  {
   "cell_type": "code",
   "id": "d974c36e",
   "metadata": {},
   "source": [
    "from medvision_toolkit.learning.patient_profiles import compute_vital_statistics, generate_handover_note\n",
    "\n",
    "patient_profile = load_sample_patient()\n",
    "stats = compute_vital_statistics(patient_profile['vitals'])\n",
    "print(stats)\n",
    "\n",
    "handover_note = generate_handover_note(\n",
    "    patient_profile,\n",
    "    action_items=patient_profile['outstanding_tasks'],\n",
    ")\n",
    "print(\"\\n\" + handover_note)"
   ],
   "outputs": [],
   "execution_count": null
  },
  {
   "cell_type": "code",
   "id": "114752e6",
   "metadata": {},
   "source": [
    "from medvision_toolkit.learning.patient_profiles import PatientProfile\n",
    "\n",
    "# TODO: Complete the function and print the resulting note.\n",
    "def draft_handover_for_night_team(profile: PatientProfile) -> str:\n",
    "    raise NotImplementedError('Capstone: combine business rules with generate_handover_note.')\n",
    "\n",
    "print(draft_handover_for_night_team(patient_profile))\n"
   ],
   "outputs": [],
   "execution_count": null
  },
  {
   "cell_type": "code",
   "id": "cee7e8fb",
   "metadata": {
    "jupyter": {
     "source_hidden": true
    },
    "tags": [
     "solution"
    ]
   },
   "source": [
    "from medvision_toolkit.learning.patient_profiles import (\n",
    "    compute_vital_statistics,\n",
    "    generate_handover_note,\n",
    ")\n",
    "\n",
    "\n",
    "def draft_handover_for_night_team(profile: PatientProfile) -> str:\n",
    "    vitals = profile['vitals']\n",
    "    stats = compute_vital_statistics(vitals)\n",
    "    action_items = list(profile['outstanding_tasks'])\n",
    "\n",
    "    if stats.latest_systolic_bp >= 140:\n",
    "        action_items.append('Recheck blood pressure in 1 hour.')\n",
    "\n",
    "    if vitals['pain_scores'][-1] >= 4:\n",
    "        action_items.append('Offer guided breathing before bedtime.')\n",
    "\n",
    "    return generate_handover_note(profile, action_items)\n",
    "\n",
    "\n",
    "print(draft_handover_for_night_team(patient_profile))\n"
   ],
   "outputs": [],
   "execution_count": null
  },
  {
   "cell_type": "markdown",
   "id": "b51b2940",
   "metadata": {},
   "source": [
    "## 6. Charting to AI Pipeline\n",
    "\n",
    "- You captured patient context with variables, lists, and dictionaries.\n",
    "- You reasoned about alerts using loops and guardrails.\n",
    "- You generated a handover note via a typed helper function.\n",
    "\n",
    "In Notebook 02 you'll hand this summary to `RadiologyAI`, our vision-language model. The structured data you curated here becomes the context that the AI uses to justify its image findings."
   ]
  },
  {
   "cell_type": "markdown",
   "id": "5983a7b8",
   "metadata": {},
   "source": [
    "### Next Steps\n",
    "1. Save a copy of your handover note for tomorrow's lab.\n",
    "2. Open `02_project_medvision_lab.ipynb` to connect your intake logic to real imaging AI.\n",
    "3. Celebrate—you just completed your first clinical coding rounds!"
   ]
  }
 ],
 "metadata": {
  "kernelspec": {
   "display_name": "Python 3",
   "language": "python",
   "name": "python3"
  },
  "language_info": {
   "mimetype": "text/x-python",
   "name": "python",
   "nbconvert_exporter": "python",
   "pygments_lexer": "ipython3",
   "version": "3.10"
  }
 },
 "nbformat": 4,
 "nbformat_minor": 5
}
