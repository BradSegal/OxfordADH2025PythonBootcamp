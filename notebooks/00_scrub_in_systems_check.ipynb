{
 "cells": [
  {
   "cell_type": "markdown",
   "id": "f93f7889",
   "metadata": {},
   "source": [
    "# Python for Medicine: Scrub-In Systems Check\n",
    "\n",
    "Before we dive into data, we make sure the AI diagnostics cart boots without surprises. Today you will scrub in as the systems lead who keeps the ward's tooling sterile."
   ]
  },
  {
   "cell_type": "markdown",
   "id": "38327a68",
   "metadata": {},
   "source": [
    "## Dawn Briefing\n",
    "\n",
    "**Patient:** Jordan Nguyen (54, they/them) admitted with community-acquired pneumonia complicated by sepsis.  \n",
    "**Today's Role:** Junior doctor assigned to certify that the MedVision learning rig is ready before rounds begin.\n",
    "\n",
    "**Learning objectives**\n",
    "- Understand how Python runtimes, packages, and paths fit together in Google Colab and on a local machine.\n",
    "- Practise installing, inspecting, and verifying dependencies without peeking behind the helper-library curtain.\n",
    "- Build a troubleshooting checklist so you can diagnose setup alarms before they disrupt patient care.\n",
    "\n",
    "Plan for ~40 minutes of focused prep. Complete this notebook before starting `01_python_first_dose.ipynb`."
   ]
  },
  {
   "cell_type": "markdown",
   "id": "4cd67f89",
   "metadata": {},
   "source": [
    "### How to Use This Notebook\n",
    "- Execute cells in order. If output looks suspicious, restart (`Runtime → Restart and run all`) to ensure a clean environment.\n",
    "- Challenge cells raise `NotImplementedError` until you supply an answer—this is intentional so problems surface early.\n",
    "- Solution cells stay collapsed. Attempt the exercise honestly before expanding.\n",
    "- Treat every warning as paging the med tech team. Investigate, document, and verify before continuing."
   ]
  },
  {
   "cell_type": "markdown",
   "id": "0f8243ee",
   "metadata": {},
   "source": [
    "## 0. Prep the Bay: System Setup\n",
    "\n",
    "This single cell provisions everything Project MedVision needs. It clones the repository when running in Colab, installs Python packages, and wires the helper library onto the path. If any step fails, the cell stops immediately so you can investigate."
   ]
  },
  {
   "cell_type": "code",
   "execution_count": null,
   "id": "74917105",
   "metadata": {},
   "outputs": [],
   "source": [
    "from __future__ import annotations\n",
    "\n",
    "import subprocess\n",
    "import sys\n",
    "from pathlib import Path\n",
    "from typing import Final\n",
    "\n",
    "REPO_URL: Final[str] = \"https://github.com/BradSegal/OxfordADH2025PythonBootcamp.git\"\n",
    "\n",
    "workspace = Path.cwd()\n",
    "\n",
    "if (workspace / \"src\" / \"medvision_toolkit\").exists():\n",
    "    repo_root = workspace\n",
    "    print(\"[OK] Detected Project MedVision source in the current workspace.\")\n",
    "elif (workspace.parent / \"src\" / \"medvision_toolkit\").exists():\n",
    "    repo_root = workspace.parent\n",
    "    print(\"[OK] Detected Project MedVision source in parent directory.\")\n",
    "    print(f\"  Project root: {repo_root}\")\n",
    "else:\n",
    "    repo_root = workspace / \"python-for-medicine-bootcamp\"\n",
    "    if repo_root.exists():\n",
    "        print(\"Existing checkout found. Pulling latest changes…\")\n",
    "        result = subprocess.run(\n",
    "            [\"git\", \"-C\", str(repo_root), \"pull\", \"--ff-only\"],\n",
    "            capture_output=True,\n",
    "            text=True,\n",
    "        )\n",
    "        if result.returncode != 0:\n",
    "            print(result.stdout)\n",
    "            print(result.stderr, file=sys.stderr)\n",
    "            raise RuntimeError(\"git pull failed; please resolve and rerun the cell.\")\n",
    "    else:\n",
    "        print(f\"Cloning repository from {REPO_URL} …\")\n",
    "        result = subprocess.run(\n",
    "            [\"git\", \"clone\", \"--depth\", \"1\", REPO_URL, str(repo_root)],\n",
    "            capture_output=True,\n",
    "            text=True,\n",
    "        )\n",
    "        if result.returncode != 0:\n",
    "            print(result.stdout)\n",
    "            print(result.stderr, file=sys.stderr)\n",
    "            raise RuntimeError(\"git clone failed; check the URL or your connection.\")\n",
    "\n",
    "requirements_path = repo_root / \"requirements.txt\"\n",
    "if not requirements_path.exists():\n",
    "    raise FileNotFoundError(f\"Could not locate requirements.txt at {requirements_path}\")\n",
    "\n",
    "try:\n",
    "    import google.colab  # type: ignore\n",
    "\n",
    "    in_colab = True\n",
    "except ImportError:\n",
    "    in_colab = False\n",
    "\n",
    "if in_colab:\n",
    "    print(\"Installing Python dependencies (this may take a minute)…\")\n",
    "    subprocess.check_call([sys.executable, \"-m\", \"pip\", \"install\", \"-q\", \"-r\", str(requirements_path)])\n",
    "else:\n",
    "    print(\"Running locally. Assuming dependencies are already installed.\")\n",
    "    print(\"If you encounter import errors, run: pip install -r requirements.txt\")\n",
    "\n",
    "project_src = repo_root / \"src\"\n",
    "if str(project_src) not in sys.path:\n",
    "    sys.path.insert(0, str(project_src))\n",
    "    print(f\"[OK] Added {project_src} to Python path\")\n",
    "\n",
    "print(\"Environment ready. Proceed to the next cell.\")"
   ]
  },
  {
   "cell_type": "markdown",
   "id": "ed68f7ab",
   "metadata": {},
   "source": [
    "### Quick Systems Check\n",
    "If the toolkit loads without complaint, your environment is ready for clinical exercises. Treat any exception as a red-alert page and document what you changed while fixing it."
   ]
  },
  {
   "cell_type": "code",
   "execution_count": null,
   "id": "d1b5d0be",
   "metadata": {},
   "outputs": [],
   "source": [
    "from medvision_toolkit.learning.patient_profiles import load_sample_patient, summarize_patient\n",
    "\n",
    "patient_profile = load_sample_patient()\n",
    "print(summarize_patient(patient_profile))"
   ]
  },
  {
   "cell_type": "markdown",
   "id": "000a9b85",
   "metadata": {},
   "source": [
    "## 1. Meet Your Environment\n",
    "\n",
    "An environment is the sterile field for your Python session. In Colab it is refreshed every time you restart the runtime; on your laptop it might live in a virtual environment. Either way, you control the Python version, installed packages, and PATH entries so code behaves predictably.\n",
    "\n",
    "Run the cell below to report your current interpreter. Capture these details in your lab notes—versions anchor your troubleshooting."
   ]
  },
  {
   "cell_type": "code",
   "execution_count": null,
   "id": "fdfbaee1",
   "metadata": {},
   "outputs": [],
   "source": [
    "import platform\n",
    "import sys\n",
    "from pathlib import Path\n",
    "\n",
    "print(f\"Python executable: {sys.executable}\")\n",
    "print(f\"Python version: {platform.python_version()}\")\n",
    "print(f\"Working directory: {Path.cwd()}\")"
   ]
  },
  {
   "cell_type": "markdown",
   "id": "4a0f85a9",
   "metadata": {},
   "source": [
    "### Vitals Check: Environment Vocabulary\n",
    "\n",
    "**Which statement best describes a Python environment?**\n",
    "\n",
    "A. A text file that lists the packages you might install someday.\n",
    "\n",
    "B. The isolated runtime (interpreter + installed packages) that executes your code.\n",
    "\n",
    "C. A cloud service that stores all your notebooks.\n",
    "\n",
    "Think it through before peeking at the answer below."
   ]
  },
  {
   "cell_type": "markdown",
   "id": "476f04fb",
   "metadata": {
    "jupyter": {
     "source_hidden": true
    },
    "tags": [
     "solution"
    ]
   },
   "source": [
    "**Answer:** B. An environment is the interpreter plus its installed packages. Requirements files describe desired state, and storage services host notebooks but do not execute them."
   ]
  },
  {
   "cell_type": "markdown",
   "id": "dfd869d5",
   "metadata": {},
   "source": [
    "## 2. Prescription for Packages\n",
    "\n",
    "`pip` is the dispenser that installs specific package versions into your environment. Project MedVision pins dependencies in `requirements.txt` so every learner works with the same toolkit, which keeps clinical exercises reproducible.\n",
    "\n",
    "Use the cell below to inspect a package that ships with Python. We rely on `importlib.metadata` instead of shell commands so the code works everywhere (Colab, Windows, macOS, Linux)."
   ]
  },
  {
   "cell_type": "code",
   "execution_count": null,
   "id": "289b3367",
   "metadata": {},
   "outputs": [],
   "source": [
    "from importlib import metadata\n",
    "\n",
    "PACKAGE_NAME = \"pip\"\n",
    "\n",
    "try:\n",
    "    version = metadata.version(PACKAGE_NAME)\n",
    "except metadata.PackageNotFoundError as exc:  # type: ignore[attr-defined]\n",
    "    raise RuntimeError(f\"{PACKAGE_NAME} is not installed in this environment.\") from exc\n",
    "else:\n",
    "    print(f\"{PACKAGE_NAME} version: {version}\")"
   ]
  },
  {
   "cell_type": "markdown",
   "id": "fb73e784",
   "metadata": {},
   "source": [
    "### Challenge: Document the Pharmacy Rules\n",
    "\n",
    "Summarise three safety principles for managing packages in this project (e.g., why we pin versions, when to reinstall, how to verify installs). Replace the `NotImplementedError` with a list of your own sentences."
   ]
  },
  {
   "cell_type": "code",
   "execution_count": null,
   "id": "82502a75",
   "metadata": {},
   "outputs": [],
   "source": [
    "from typing import List\n",
    "\n",
    "package_safety_notes: List[str] | None = None\n",
    "\n",
    "if package_safety_notes is None:\n",
    "    raise NotImplementedError(\"Add three package safety notes before moving on.\")\n",
    "\n",
    "print(\"Package safety briefing:\")\n",
    "for note in package_safety_notes:\n",
    "    print(f\"- {note}\")"
   ]
  },
  {
   "cell_type": "code",
   "execution_count": null,
   "id": "4d2ac927",
   "metadata": {
    "jupyter": {
     "source_hidden": true
    },
    "tags": [
     "solution"
    ]
   },
   "outputs": [],
   "source": [
    "\n",
    "package_safety_notes: List[str] = [\n",
    "    \"Install exactly the versions listed in requirements.txt so everyone sees the same behaviour.\",\n",
    "    \"Re-run the setup cell in new Colab sessions instead of mixing manual installs.\",\n",
    "    \"Verify critical packages with importlib.metadata.version before running clinical notebooks.\",\n",
    "]\n",
    "\n",
    "print(\"Package safety briefing:\")\n",
    "for note in package_safety_notes:\n",
    "    print(f\"- {note}\")"
   ]
  },
  {
   "cell_type": "markdown",
   "id": "a385141e",
   "metadata": {},
   "source": [
    "## 3. When Alarms Sound\n",
    "\n",
    "Even the best setups occasionally protest. Keep this mini playbook handy so you can respond quickly and log what worked.\n",
    "\n",
    "| Symptom | Likely Cause | Action |\n",
    "| --- | --- | --- |\n",
    "| `ModuleNotFoundError: medvision_toolkit` | `src/` directory missing from `sys.path` | Re-run the setup cell to append the project path. |\n",
    "| `pip install` reports SSL or network errors in Colab | Runtime lost internet connection | Restart the runtime, ensure you are authenticated to the network, then rerun setup. |\n",
    "| Code imports but produces stale behaviour | Old package cache after local update | Run `pip install --upgrade -r requirements.txt` in your virtual environment, then restart the kernel. |\n",
    "\n",
    "Use the helper below to confirm critical packages without digging into implementation details. If a package is absent, the function raises immediately so you can respond."
   ]
  },
  {
   "cell_type": "code",
   "execution_count": null,
   "id": "f9e14fbd",
   "metadata": {},
   "outputs": [],
   "source": [
    "from collections.abc import Iterable\n",
    "from importlib import metadata\n",
    "\n",
    "\n",
    "def verify_packages(packages: Iterable[str]) -> None:\n",
    "    for package in packages:\n",
    "        try:\n",
    "            version = metadata.version(package)\n",
    "        except metadata.PackageNotFoundError as exc:  # type: ignore[attr-defined]\n",
    "            raise RuntimeError(f\"{package} is missing. Re-run the setup cell.\") from exc\n",
    "        else:\n",
    "            print(f\"[OK] {package} {version}\")\n",
    "\n",
    "\n",
    "verify_packages([\"pip\", \"requests\"])"
   ]
  },
  {
   "cell_type": "markdown",
   "id": "4066a78e",
   "metadata": {},
   "source": [
    "### Optional Drill: Install, Inspect, Uninstall\n",
    "\n",
    "Colab users can safely rehearse the full `pip` cycle on a tiny package. Local users should activate their virtual environment before running the command."
   ]
  },
  {
   "cell_type": "code",
   "execution_count": null,
   "id": "6d51b032",
   "metadata": {},
   "outputs": [],
   "source": [
    "import subprocess\n",
    "import sys\n",
    "\n",
    "PACKAGE = \"packaging\"\n",
    "\n",
    "if 'in_colab' in globals() and in_colab:\n",
    "    print(f\"Installing {PACKAGE} for practice…\")\n",
    "    subprocess.check_call([sys.executable, \"-m\", \"pip\", \"install\", \"-q\", PACKAGE])\n",
    "    subprocess.check_call([sys.executable, \"-m\", \"pip\", \"uninstall\", \"-y\", PACKAGE], stdout=subprocess.DEVNULL)\n",
    "    print(f\"Completed install/uninstall cycle for {PACKAGE} in Colab runtime.\")\n",
    "else:\n",
    "    print(\"Skip this drill if you are unsure which local environment is active. Run it manually once you confirm the correct virtual environment.\")"
   ]
  },
  {
   "cell_type": "markdown",
   "id": "0f6e7cb7",
   "metadata": {},
   "source": [
    "## 4. Sterile Technique Checklist\n",
    "\n",
    "Before handing the cart to the rest of the team, compile the checks you completed. Use the dataclass below to keep your notes structured. Update the `checklist` so it reflects your actual steps."
   ]
  },
  {
   "cell_type": "code",
   "execution_count": null,
   "id": "e6e32d55",
   "metadata": {},
   "outputs": [],
   "source": [
    "from dataclasses import dataclass\n",
    "\n",
    "\n",
    "@dataclass(frozen=True)\n",
    "class ChecklistItem:\n",
    "    description: str\n",
    "    completed: bool\n",
    "\n",
    "\n",
    "def render_checklist(items: List[ChecklistItem]) -> None:\n",
    "    for item in items:\n",
    "        status = \"PASS\" if item.completed else \"CHECK\"\n",
    "        print(f\"[{status}] {item.description}\")\n",
    "\n",
    "\n",
    "checklist: List[ChecklistItem] | None = None\n",
    "\n",
    "if checklist is None:\n",
    "    raise NotImplementedError(\"List the actions you took to certify the environment.\")\n",
    "\n",
    "render_checklist(checklist)"
   ]
  },
  {
   "cell_type": "code",
   "execution_count": null,
   "id": "a7cd39f0",
   "metadata": {
    "jupyter": {
     "source_hidden": true
    },
    "tags": [
     "solution"
    ]
   },
   "outputs": [],
   "source": [
    "from dataclasses import dataclass\n",
    "\n",
    "\n",
    "@dataclass(frozen=True)\n",
    "class ChecklistItem:\n",
    "    description: str\n",
    "    completed: bool\n",
    "\n",
    "\n",
    "def render_checklist(items: List[ChecklistItem]) -> None:\n",
    "    for item in items:\n",
    "        status = \"PASS\" if item.completed else \"CHECK\"\n",
    "        print(f\"[{status}] {item.description}\")\n",
    "\n",
    "\n",
    "checklist: List[ChecklistItem] = [\n",
    "    ChecklistItem(\"Ran the setup cell and confirmed requirements installed\", True),\n",
    "    ChecklistItem(\"Verified Python version and working directory\", True),\n",
    "    ChecklistItem(\"Documented package safety practices in lab notes\", True),\n",
    "]\n",
    "\n",
    "render_checklist(checklist)"
   ]
  },
  {
   "cell_type": "markdown",
   "id": "d1267d30",
   "metadata": {},
   "source": [
    "## 5. Debrief and Next Steps\n",
    "\n",
    "Take five minutes to document your findings:\n",
    "\n",
    "1. **Environment Snapshot:** Record the Python version, key package versions, and date. These notes become your baseline if something changes.\n",
    "2. **Confidence Check:** On a scale of 1–5, how confident do you feel rerunning this setup on a fresh Colab runtime? What would raise that score?\n",
    "3. **Escalation Plan:** If the setup cell fails during a high-stakes session, who on your team do you page first and what evidence will you provide?\n",
    "\n",
    "Once you are satisfied that the cart is sterile and ready, continue to `01_python_first_dose.ipynb`. You now own the environment—keep it predictable, reproducible, and safe for the rest of the course."
   ]
  }
 ],
 "metadata": {
  "kernelspec": {
   "display_name": "Python 3",
   "language": "python",
   "name": "python3"
  }
 },
 "nbformat": 4,
 "nbformat_minor": 5
}
